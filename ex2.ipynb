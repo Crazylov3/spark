{
 "cells": [
  {
   "cell_type": "code",
   "execution_count": 13,
   "metadata": {
    "pycharm": {
     "name": "#%%\n"
    }
   },
   "outputs": [],
   "source": [
    "import pyspark\n",
    "from pyspark.context import SparkContext\n",
    "from pyspark.sql import SparkSession\n",
    "from pyspark.sql.types import StructType\n",
    "from pyspark.sql.functions import *\n",
    "from pyspark.sql.types import *"
   ]
  },
  {
   "cell_type": "code",
   "execution_count": 14,
   "metadata": {
    "pycharm": {
     "name": "#%%\n"
    }
   },
   "outputs": [],
   "source": [
    "spark = SparkSession.builder.appName(\"Vu dep trai\").getOrCreate()\n",
    "\n",
    "airportsSchema = StructType() \\\n",
    "    .add(\"id\", \"integer\") \\\n",
    "    .add(\"airport_name\", \"string\") \\\n",
    "    .add(\"city\", \"string\") \\\n",
    "    .add(\"country\", \"string\") \\\n",
    "    .add(\"iata\", \"string\") \\\n",
    "    .add(\"icao\", \"string\") \\\n",
    "    .add(\"latitude\", \"float\") \\\n",
    "    .add(\"longitude\", \"float\") \\\n",
    "    .add(\"altitude\", \"integer\") \\\n",
    "    .add(\"timezone\", \"byte\") \\\n",
    "    .add(\"dst\", \"string\") \\\n",
    "    .add(\"tz_database_timezone\", \"string\") \\\n",
    "    .add(\"type\", \"string\") \\\n",
    "    .add(\"source\", \"string\")\n",
    "\n",
    "routesSchema = StructType() \\\n",
    "    .add(\"airline\", \"string\") \\\n",
    "    .add(\"airline_id\", \"integer\") \\\n",
    "    .add(\"source_airport\", \"string\") \\\n",
    "    .add(\"source_airport_id\", \"integer\") \\\n",
    "    .add(\"destination_airport\", \"string\") \\\n",
    "    .add(\"destination_airport_id\", \"integer\") \\\n",
    "    .add(\"codeshare\", \"string\") \\\n",
    "    .add(\"stops\", \"integer\") \\\n",
    "    .add(\"equipment\", \"string\")\n"
   ]
  },
  {
   "cell_type": "code",
   "execution_count": 15,
   "metadata": {
    "pycharm": {
     "name": "#%%\n"
    }
   },
   "outputs": [
    {
     "name": "stdout",
     "output_type": "stream",
     "text": [
      "+---+--------------------+------------+----------------+----+----+---------+----------+--------+--------+---+--------------------+-------+-----------+\n",
      "| id|        airport_name|        city|         country|iata|icao| latitude| longitude|altitude|timezone|dst|tz_database_timezone|   type|     source|\n",
      "+---+--------------------+------------+----------------+----+----+---------+----------+--------+--------+---+--------------------+-------+-----------+\n",
      "|  1|      Goroka Airport|      Goroka|Papua New Guinea| GKA|AYGA| -6.08169|   145.392|    5282|      10|  U|Pacific/Port_Moresby|airport|OurAirports|\n",
      "|  2|      Madang Airport|      Madang|Papua New Guinea| MAG|AYMD| -5.20708|   145.789|      20|      10|  U|Pacific/Port_Moresby|airport|OurAirports|\n",
      "|  3|Mount Hagen Kagam...| Mount Hagen|Papua New Guinea| HGU|AYMH| -5.82679|   144.296|    5388|      10|  U|Pacific/Port_Moresby|airport|OurAirports|\n",
      "|  4|      Nadzab Airport|      Nadzab|Papua New Guinea| LAE|AYNZ|-6.569803| 146.72598|     239|      10|  U|Pacific/Port_Moresby|airport|OurAirports|\n",
      "|  5|Port Moresby Jack...|Port Moresby|Papua New Guinea| POM|AYPY| -9.44338|    147.22|     146|      10|  U|Pacific/Port_Moresby|airport|OurAirports|\n",
      "|  6|Wewak Internation...|       Wewak|Papua New Guinea| WWK|AYWK| -3.58383|   143.669|      19|      10|  U|Pacific/Port_Moresby|airport|OurAirports|\n",
      "|  7|  Narsarsuaq Airport|Narssarssuaq|       Greenland| UAK|BGBW|  61.1605|   -45.426|     112|      -3|  E|     America/Godthab|airport|OurAirports|\n",
      "|  8|Godthaab / Nuuk A...|    Godthaab|       Greenland| GOH|BGGH|  64.1909|  -51.6781|     283|      -3|  E|     America/Godthab|airport|OurAirports|\n",
      "|  9|Kangerlussuaq Air...| Sondrestrom|       Greenland| SFJ|BGSF| 67.01222|-50.711605|     165|      -3|  E|     America/Godthab|airport|OurAirports|\n",
      "| 10|      Thule Air Base|       Thule|       Greenland| THU|BGTL|  76.5312|  -68.7032|     251|      -4|  E|       America/Thule|airport|OurAirports|\n",
      "+---+--------------------+------------+----------------+----+----+---------+----------+--------+--------+---+--------------------+-------+-----------+\n",
      "only showing top 10 rows\n",
      "\n"
     ]
    }
   ],
   "source": [
    "airports = spark.read.csv(\"data/airports.dat\", schema=airportsSchema)\n",
    "airports.createOrReplaceTempView(\"airports\")\n",
    "airports.show(10)"
   ]
  },
  {
   "cell_type": "code",
   "execution_count": 16,
   "metadata": {
    "pycharm": {
     "name": "#%%\n"
    }
   },
   "outputs": [
    {
     "name": "stdout",
     "output_type": "stream",
     "text": [
      "+-------+----------+--------------+-----------------+-------------------+----------------------+---------+-----+---------+\n",
      "|airline|airline_id|source_airport|source_airport_id|destination_airport|destination_airport_id|codeshare|stops|equipment|\n",
      "+-------+----------+--------------+-----------------+-------------------+----------------------+---------+-----+---------+\n",
      "|     2B|       410|           AER|             2965|                KZN|                  2990|     null|    0|      CR2|\n",
      "|     2B|       410|           ASF|             2966|                KZN|                  2990|     null|    0|      CR2|\n",
      "|     2B|       410|           ASF|             2966|                MRV|                  2962|     null|    0|      CR2|\n",
      "|     2B|       410|           CEK|             2968|                KZN|                  2990|     null|    0|      CR2|\n",
      "|     2B|       410|           CEK|             2968|                OVB|                  4078|     null|    0|      CR2|\n",
      "|     2B|       410|           DME|             4029|                KZN|                  2990|     null|    0|      CR2|\n",
      "|     2B|       410|           DME|             4029|                NBC|                  6969|     null|    0|      CR2|\n",
      "|     2B|       410|           DME|             4029|                TGK|                  null|     null|    0|      CR2|\n",
      "|     2B|       410|           DME|             4029|                UUA|                  6160|     null|    0|      CR2|\n",
      "|     2B|       410|           EGO|             6156|                KGD|                  2952|     null|    0|      CR2|\n",
      "+-------+----------+--------------+-----------------+-------------------+----------------------+---------+-----+---------+\n",
      "only showing top 10 rows\n",
      "\n"
     ]
    }
   ],
   "source": [
    "routes = spark.read.csv(\"data/routes.dat\", schema=routesSchema)\n",
    "routes.show(10)\n",
    "routes.createOrReplaceTempView(\"routes\")"
   ]
  },
  {
   "cell_type": "code",
   "execution_count": 17,
   "metadata": {
    "pycharm": {
     "name": "#%%\n"
    }
   },
   "outputs": [
    {
     "name": "stdout",
     "output_type": "stream",
     "text": [
      "Number of airports: \n",
      "+--------+\n",
      "|count(1)|\n",
      "+--------+\n",
      "|    7698|\n",
      "+--------+\n",
      "\n"
     ]
    }
   ],
   "source": [
    "print(\"Number of airports: \")\n",
    "spark.sql(\"SELECT COUNT(*) FROM airports\").show()"
   ]
  },
  {
   "cell_type": "code",
   "execution_count": 18,
   "metadata": {
    "pycharm": {
     "name": "#%%\n"
    }
   },
   "outputs": [
    {
     "name": "stdout",
     "output_type": "stream",
     "text": [
      "Number of airports DISTINCT: \n",
      "+----------------------------+\n",
      "|count(DISTINCT airport_name)|\n",
      "+----------------------------+\n",
      "|                        7658|\n",
      "+----------------------------+\n",
      "\n"
     ]
    }
   ],
   "source": [
    "print(\"Number of airports DISTINCT: \")\n",
    "spark.sql(\"SELECT COUNT(DISTINCT airport_name) FROM airports\").show()"
   ]
  },
  {
   "cell_type": "code",
   "execution_count": 19,
   "metadata": {
    "pycharm": {
     "name": "#%%\n"
    }
   },
   "outputs": [
    {
     "name": "stdout",
     "output_type": "stream",
     "text": [
      "Filtering airports in Greenland\n",
      "+----+--------------------+--------------------+---------+----+----+---------+----------+--------+--------+---+--------------------+-------+-----------+\n",
      "|  id|        airport_name|                city|  country|iata|icao| latitude| longitude|altitude|timezone|dst|tz_database_timezone|   type|     source|\n",
      "+----+--------------------+--------------------+---------+----+----+---------+----------+--------+--------+---+--------------------+-------+-----------+\n",
      "|   7|  Narsarsuaq Airport|        Narssarssuaq|Greenland| UAK|BGBW|  61.1605|   -45.426|     112|      -3|  E|     America/Godthab|airport|OurAirports|\n",
      "|   8|Godthaab / Nuuk A...|            Godthaab|Greenland| GOH|BGGH|  64.1909|  -51.6781|     283|      -3|  E|     America/Godthab|airport|OurAirports|\n",
      "|   9|Kangerlussuaq Air...|         Sondrestrom|Greenland| SFJ|BGSF| 67.01222|-50.711605|     165|      -3|  E|     America/Godthab|airport|OurAirports|\n",
      "|  10|      Thule Air Base|               Thule|Greenland| THU|BGTL|  76.5312|  -68.7032|     251|      -4|  E|       America/Thule|airport|OurAirports|\n",
      "|3995|   Ilulissat Airport|           Ilulissat|Greenland| JAV|BGJN|  69.2432|  -51.0571|      95|      -3|  E|     America/Godthab|airport|OurAirports|\n",
      "|3996|Qasigiannguit Hel...|       Qasigiannguit|Greenland| JCH|BGCH|68.822815|-51.173447|      70|      -3|  E|     America/Godthab|airport|OurAirports|\n",
      "|3997|     Aasiaat Airport|             Aasiaat|Greenland| JEG|BGAA|  68.7218|  -52.7847|      74|      -3|  E|     America/Godthab|airport|OurAirports|\n",
      "|5438|Alluitsup Paa Hel...|       Alluitsup Paa|Greenland| LLU|BGAP| 60.46445| -45.56917|      54|      -3|  E|     America/Godthab|airport|OurAirports|\n",
      "|5439|Neerlerit Inaat A...|     Neerlerit Inaat|Greenland| CNP|BGCO|  70.7431|  -22.6505|      45|      -1|  E|America/Scoresbysund|airport|OurAirports|\n",
      "|5440|    Paamiut Heliport|             Paamiut|Greenland| JFR|BGFH|  61.9922|  -49.6625|      63|      -3|  E|     America/Godthab|airport|OurAirports|\n",
      "|5441|Qeqertarsuaq Heli...|Qeqertarsuaq Airport|Greenland| JGO|BGGN| 69.25118|-53.514877|       9|      -3|  E|     America/Godthab|airport|OurAirports|\n",
      "|5442|   Qaqortoq Heliport|            Qaqortoq|Greenland| JJU|BGJH|60.715683| -46.02992|      53|      -3|  E|     America/Godthab|airport|OurAirports|\n",
      "|5443|   Maniitsoq Airport|           Maniitsoq|Greenland| JSU|BGMQ|  65.4125|  -52.9394|      91|      -3|  E|     America/Godthab|airport|OurAirports|\n",
      "|5444| Nanortalik Heliport|          Nanortalik|Greenland| JNN|BGNN|60.141884|-45.232975|      17|      -3|  E|     America/Godthab|airport|OurAirports|\n",
      "|5445|     Narsaq Heliport|              Narsaq|Greenland| JNS|BGNS|60.917282|-46.059925|      83|      -3|  E|     America/Godthab|airport|OurAirports|\n",
      "|5446|     Qaanaaq Airport|             Qaanaaq|Greenland| NAQ|BGQQ|  77.4886|  -69.3887|      51|      -4|  E|       America/Thule|airport|OurAirports|\n",
      "|5447|    Sisimiut Airport|            Sisimiut|Greenland| JHS|BGSS|  66.9513|  -53.7293|      33|      -3|  E|     America/Godthab|airport|OurAirports|\n",
      "|5448|   Upernavik Airport|           Upernavik|Greenland| JUV|BGUK|  72.7902|  -56.1306|     414|      -3|  E|     America/Godthab|airport|OurAirports|\n",
      "|5449|     Qaarsut Airport|           Uummannaq|Greenland| JQA|BGUQ|  70.7342|  -52.6962|     289|      -3|  E|     America/Godthab|airport|OurAirports|\n",
      "|7642|   Tasiilaq Heliport|        Angmagssalik|Greenland|  \\N|BGAM|  65.6123|-37.618336|      24|      -3|  U|     America/Godthab|airport|OurAirports|\n",
      "+----+--------------------+--------------------+---------+----+----+---------+----------+--------+--------+---+--------------------+-------+-----------+\n",
      "only showing top 20 rows\n",
      "\n"
     ]
    }
   ],
   "source": [
    "print(\"Filtering airports in Greenland\")\n",
    "spark.sql(\"SELECT * FROM airports WHERE country = 'Greenland'\").show()"
   ]
  },
  {
   "cell_type": "code",
   "execution_count": 20,
   "metadata": {
    "pycharm": {
     "name": "#%%\n"
    }
   },
   "outputs": [
    {
     "name": "stdout",
     "output_type": "stream",
     "text": [
      "Joining routes and airports\n",
      "+-------+----------+--------------+-----------------+-------------------+----------------------+---------+-----+---------+----+--------------------+-----------+-------+----+----+--------+---------+--------+--------+---+--------------------+-------+-----------+\n",
      "|airline|airline_id|source_airport|source_airport_id|destination_airport|destination_airport_id|codeshare|stops|equipment|  id|        airport_name|       city|country|iata|icao|latitude|longitude|altitude|timezone|dst|tz_database_timezone|   type|     source|\n",
      "+-------+----------+--------------+-----------------+-------------------+----------------------+---------+-----+---------+----+--------------------+-----------+-------+----+----+--------+---------+--------+--------+---+--------------------+-------+-----------+\n",
      "|     2B|       410|           AER|             2965|                KZN|                  2990|     null|    0|      CR2|2965|Sochi Internation...|      Sochi| Russia| AER|URSS| 43.4499|  39.9566|      89|       3|  N|       Europe/Moscow|airport|OurAirports|\n",
      "|     2B|       410|           ASF|             2966|                KZN|                  2990|     null|    0|      CR2|2966|   Astrakhan Airport|  Astrakhan| Russia| ASF|URWA| 46.2833|  48.0063|     -65|       4|  N|       Europe/Samara|airport|OurAirports|\n",
      "|     2B|       410|           ASF|             2966|                MRV|                  2962|     null|    0|      CR2|2966|   Astrakhan Airport|  Astrakhan| Russia| ASF|URWA| 46.2833|  48.0063|     -65|       4|  N|       Europe/Samara|airport|OurAirports|\n",
      "|     2B|       410|           CEK|             2968|                KZN|                  2990|     null|    0|      CR2|2968|Chelyabinsk Balan...|Chelyabinsk| Russia| CEK|USCC| 55.3058|  61.5033|     769|       5|  N|  Asia/Yekaterinburg|airport|OurAirports|\n",
      "|     2B|       410|           CEK|             2968|                OVB|                  4078|     null|    0|      CR2|2968|Chelyabinsk Balan...|Chelyabinsk| Russia| CEK|USCC| 55.3058|  61.5033|     769|       5|  N|  Asia/Yekaterinburg|airport|OurAirports|\n",
      "|     2B|       410|           DME|             4029|                KZN|                  2990|     null|    0|      CR2|4029|Domodedovo Intern...|     Moscow| Russia| DME|UUDD| 55.4088|  37.9063|     588|       3|  N|       Europe/Moscow|airport|OurAirports|\n",
      "|     2B|       410|           DME|             4029|                NBC|                  6969|     null|    0|      CR2|4029|Domodedovo Intern...|     Moscow| Russia| DME|UUDD| 55.4088|  37.9063|     588|       3|  N|       Europe/Moscow|airport|OurAirports|\n",
      "|     2B|       410|           DME|             4029|                TGK|                  null|     null|    0|      CR2|4029|Domodedovo Intern...|     Moscow| Russia| DME|UUDD| 55.4088|  37.9063|     588|       3|  N|       Europe/Moscow|airport|OurAirports|\n",
      "|     2B|       410|           DME|             4029|                UUA|                  6160|     null|    0|      CR2|4029|Domodedovo Intern...|     Moscow| Russia| DME|UUDD| 55.4088|  37.9063|     588|       3|  N|       Europe/Moscow|airport|OurAirports|\n",
      "|     2B|       410|           EGO|             6156|                KGD|                  2952|     null|    0|      CR2|6156|Belgorod Internat...|   Belgorod| Russia| EGO|UUOB| 50.6438|  36.5901|     735|       3|  N|       Europe/Moscow|airport|OurAirports|\n",
      "+-------+----------+--------------+-----------------+-------------------+----------------------+---------+-----+---------+----+--------------------+-----------+-------+----+----+--------+---------+--------+--------+---+--------------------+-------+-----------+\n",
      "only showing top 10 rows\n",
      "\n"
     ]
    }
   ],
   "source": [
    "print(\"Joining routes and airports\")\n",
    "joined_tabel = spark.sql(\"SELECT * FROM routes JOIN airports ON routes.source_airport_id = airports.id\")\n",
    "joined_tabel.createOrReplaceTempView(\"joined_tabel\")\n",
    "joined_tabel.show(10)"
   ]
  },
  {
   "cell_type": "code",
   "execution_count": 21,
   "metadata": {
    "pycharm": {
     "name": "#%%\n"
    }
   },
   "outputs": [
    {
     "name": "stdout",
     "output_type": "stream",
     "text": [
      "Joining routes and airports\n",
      "+-------+----------+--------------+-----------------+-------------------+----------------------+---------+-----+---------+----+--------------------+-----------+-------+----+----+--------+---------+--------+--------+---+--------------------+-------+-----------+\n",
      "|airline|airline_id|source_airport|source_airport_id|destination_airport|destination_airport_id|codeshare|stops|equipment|  id|        airport_name|       city|country|iata|icao|latitude|longitude|altitude|timezone|dst|tz_database_timezone|   type|     source|\n",
      "+-------+----------+--------------+-----------------+-------------------+----------------------+---------+-----+---------+----+--------------------+-----------+-------+----+----+--------+---------+--------+--------+---+--------------------+-------+-----------+\n",
      "|     2B|       410|           AER|             2965|                KZN|                  2990|     null|    0|      CR2|2965|Sochi Internation...|      Sochi| Russia| AER|URSS| 43.4499|  39.9566|      89|       3|  N|       Europe/Moscow|airport|OurAirports|\n",
      "|     2B|       410|           ASF|             2966|                KZN|                  2990|     null|    0|      CR2|2966|   Astrakhan Airport|  Astrakhan| Russia| ASF|URWA| 46.2833|  48.0063|     -65|       4|  N|       Europe/Samara|airport|OurAirports|\n",
      "|     2B|       410|           ASF|             2966|                MRV|                  2962|     null|    0|      CR2|2966|   Astrakhan Airport|  Astrakhan| Russia| ASF|URWA| 46.2833|  48.0063|     -65|       4|  N|       Europe/Samara|airport|OurAirports|\n",
      "|     2B|       410|           CEK|             2968|                KZN|                  2990|     null|    0|      CR2|2968|Chelyabinsk Balan...|Chelyabinsk| Russia| CEK|USCC| 55.3058|  61.5033|     769|       5|  N|  Asia/Yekaterinburg|airport|OurAirports|\n",
      "|     2B|       410|           CEK|             2968|                OVB|                  4078|     null|    0|      CR2|2968|Chelyabinsk Balan...|Chelyabinsk| Russia| CEK|USCC| 55.3058|  61.5033|     769|       5|  N|  Asia/Yekaterinburg|airport|OurAirports|\n",
      "|     2B|       410|           DME|             4029|                KZN|                  2990|     null|    0|      CR2|4029|Domodedovo Intern...|     Moscow| Russia| DME|UUDD| 55.4088|  37.9063|     588|       3|  N|       Europe/Moscow|airport|OurAirports|\n",
      "|     2B|       410|           DME|             4029|                NBC|                  6969|     null|    0|      CR2|4029|Domodedovo Intern...|     Moscow| Russia| DME|UUDD| 55.4088|  37.9063|     588|       3|  N|       Europe/Moscow|airport|OurAirports|\n",
      "|     2B|       410|           DME|             4029|                TGK|                  null|     null|    0|      CR2|4029|Domodedovo Intern...|     Moscow| Russia| DME|UUDD| 55.4088|  37.9063|     588|       3|  N|       Europe/Moscow|airport|OurAirports|\n",
      "|     2B|       410|           DME|             4029|                UUA|                  6160|     null|    0|      CR2|4029|Domodedovo Intern...|     Moscow| Russia| DME|UUDD| 55.4088|  37.9063|     588|       3|  N|       Europe/Moscow|airport|OurAirports|\n",
      "|     2B|       410|           EGO|             6156|                KGD|                  2952|     null|    0|      CR2|6156|Belgorod Internat...|   Belgorod| Russia| EGO|UUOB| 50.6438|  36.5901|     735|       3|  N|       Europe/Moscow|airport|OurAirports|\n",
      "+-------+----------+--------------+-----------------+-------------------+----------------------+---------+-----+---------+----+--------------------+-----------+-------+----+----+--------+---------+--------+--------+---+--------------------+-------+-----------+\n",
      "only showing top 10 rows\n",
      "\n"
     ]
    }
   ],
   "source": [
    "print(\"Joining routes and airports\")\n",
    "joined_tabel = spark.sql(\"SELECT * FROM routes JOIN airports ON routes.source_airport_id = airports.id\")\n",
    "joined_tabel.show(10)"
   ]
  },
  {
   "cell_type": "code",
   "execution_count": 22,
   "metadata": {
    "pycharm": {
     "name": "#%%\n"
    }
   },
   "outputs": [
    {
     "name": "stdout",
     "output_type": "stream",
     "text": [
      "Count the number of flights arriving in each country\n",
      "+--------------+-------------+\n",
      "|country       |airport_count|\n",
      "+--------------+-------------+\n",
      "|Chad          |9            |\n",
      "|Paraguay      |22           |\n",
      "|Anguilla      |6            |\n",
      "|Russia        |1829         |\n",
      "|Yemen         |93           |\n",
      "|Senegal       |70           |\n",
      "|Sweden        |474          |\n",
      "|Kiribati      |7            |\n",
      "|Guyana        |9            |\n",
      "|Jersey        |38           |\n",
      "|Philippines   |395          |\n",
      "|Burma         |104          |\n",
      "|Eritrea       |8            |\n",
      "|Tonga         |5            |\n",
      "|Norfolk Island|3            |\n",
      "|Djibouti      |23           |\n",
      "|Malaysia      |565          |\n",
      "|Singapore     |408          |\n",
      "|Fiji          |69           |\n",
      "|Turkey        |977          |\n",
      "+--------------+-------------+\n",
      "only showing top 20 rows\n",
      "\n"
     ]
    }
   ],
   "source": [
    "print(\"Count the number of flights arriving in each country\")\n",
    "spark.sql(\n",
    "    \"SELECT country, COUNT(airport_name) AS airport_count \"\n",
    "    \"FROM joined_tabel \"\n",
    "    \"GROUP BY country\"\n",
    ").show(truncate=False)"
   ]
  }
 ],
 "metadata": {
  "kernelspec": {
   "display_name": "Python 3 (ipykernel)",
   "language": "python",
   "name": "python3"
  },
  "language_info": {
   "codemirror_mode": {
    "name": "ipython",
    "version": 3
   },
   "file_extension": ".py",
   "mimetype": "text/x-python",
   "name": "python",
   "nbconvert_exporter": "python",
   "pygments_lexer": "ipython3",
   "version": "3.8.15"
  }
 },
 "nbformat": 4,
 "nbformat_minor": 1
}