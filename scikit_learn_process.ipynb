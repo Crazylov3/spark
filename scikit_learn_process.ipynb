{
  "cells": [
    {
      "cell_type": "code",
      "execution_count": null,
      "metadata": {
        "colab": {
          "base_uri": "https://localhost:8080/"
        },
        "id": "kqJWeDcbUWPA",
        "outputId": "80a8f2fc-91c2-4e32-9fc4-e15904708841"
      },
      "outputs": [
        {
          "name": "stdout",
          "output_type": "stream",
          "text": [
            "Looking in indexes: https://pypi.org/simple, https://us-python.pkg.dev/colab-wheels/public/simple/\n",
            "Collecting pyspark\n",
            "  Downloading pyspark-3.3.1.tar.gz (281.4 MB)\n",
            "\u001b[2K     \u001b[90m━━━━━━━━━━━━━━━━━━━━━━━━━━━━━━━━━━━━━━━\u001b[0m \u001b[32m281.4/281.4 MB\u001b[0m \u001b[31m5.0 MB/s\u001b[0m eta \u001b[36m0:00:00\u001b[0m\n",
            "\u001b[?25h  Preparing metadata (setup.py) ... \u001b[?25l\u001b[?25hdone\n",
            "Collecting py4j==0.10.9.5\n",
            "  Downloading py4j-0.10.9.5-py2.py3-none-any.whl (199 kB)\n",
            "\u001b[2K     \u001b[90m━━━━━━━━━━━━━━━━━━━━━━━━━━━━━━━━━━━━━━\u001b[0m \u001b[32m199.7/199.7 KB\u001b[0m \u001b[31m10.1 MB/s\u001b[0m eta \u001b[36m0:00:00\u001b[0m\n",
            "\u001b[?25hBuilding wheels for collected packages: pyspark\n",
            "  Building wheel for pyspark (setup.py) ... \u001b[?25l\u001b[?25hdone\n",
            "  Created wheel for pyspark: filename=pyspark-3.3.1-py2.py3-none-any.whl size=281845512 sha256=8c3d6078ce647c6a669d05655650eb616dec5426f57b95643a5bf5274e51d711\n",
            "  Stored in directory: /root/.cache/pip/wheels/43/dc/11/ec201cd671da62fa9c5cc77078235e40722170ceba231d7598\n",
            "Successfully built pyspark\n",
            "Installing collected packages: py4j, pyspark\n",
            "Successfully installed py4j-0.10.9.5 pyspark-3.3.1\n",
            "Looking in indexes: https://pypi.org/simple, https://us-python.pkg.dev/colab-wheels/public/simple/\n",
            "Collecting joblibspark\n",
            "  Downloading joblibspark-0.5.1-py3-none-any.whl (15 kB)\n",
            "Requirement already satisfied: joblib>=0.14 in /usr/local/lib/python3.8/dist-packages (from joblibspark) (1.2.0)\n",
            "Installing collected packages: joblibspark\n",
            "Successfully installed joblibspark-0.5.1\n"
          ]
        }
      ],
      "source": [
        "!pip install pyspark\n",
        "!pip install joblibspark"
      ]
    },
    {
      "cell_type": "code",
      "execution_count": null,
      "metadata": {
        "id": "TulJDkWISloh"
      },
      "outputs": [],
      "source": [
        "import pyspark\n",
        "from pyspark.context import SparkContext\n",
        "from pyspark.sql import SparkSession\n",
        "from pyspark.sql.types import StructType\n",
        "from pyspark.sql.functions import *\n",
        "from pyspark.sql.types import *\n",
        "from pyspark.ml.linalg import Vectors\n",
        "from pyspark.ml.feature import *\n",
        "from pyspark.ml.regression import *\n",
        "from pyspark.ml.evaluation import *\n",
        "import numpy as np\n",
        "import matplotlib.pyplot as plt\n",
        "import pandas as pd\n",
        "from datetime import datetime\n",
        "import seaborn as sns\n",
        "import sklearn\n",
        "from sklearn import preprocessing\n",
        "from sklearn.preprocessing import StandardScaler\n",
        "from sklearn.model_selection import GridSearchCV\n",
        "import sklearn.ensemble\n",
        "from sklearn.utils import parallel_backend\n",
        "from joblibspark import register_spark\n",
        "from sklearn.metrics import mean_absolute_error"
      ]
    },
    {
      "cell_type": "code",
      "execution_count": null,
      "metadata": {
        "id": "1Upm-t-ASloq"
      },
      "outputs": [],
      "source": [
        "spark = SparkSession.builder.appName(\"Vu dep trai\").config(\"spark.executor.memory\",\"9g\").getOrCreate()\n",
        "# conf = pyspark.SparkConf().setMaster(\"spark://node-master:7077\")\\\n",
        "#         .setAppName(\"Vu dep trai\")\\\n",
        "#         .set(\"spark.executor.memory\",\"15g\")\n",
        "# # sc = SparkContext.getOrCreate(conf=conf)\n",
        "# # spark.stop()\n",
        "# sc = SparkContext(conf = conf)\n",
        "# spark = SparkSession(sc)"
      ]
    },
    {
      "cell_type": "code",
      "execution_count": null,
      "metadata": {
        "id": "QYC1HjQ3Sloy"
      },
      "outputs": [],
      "source": [
        "## From EDA select important columns\n",
        "# input_col = ['Store', 'IsHoliday', 'Type', 'Size', 'Week','Dept','Year']\n",
        "target = 'Weekly_Sales'"
      ]
    },
    {
      "cell_type": "code",
      "execution_count": null,
      "metadata": {
        "id": "v3HddeWTUhND"
      },
      "outputs": [],
      "source": [
        "df_clean = spark.read.csv('train_final.csv', header=True, inferSchema=True)"
      ]
    },
    {
      "cell_type": "code",
      "execution_count": null,
      "metadata": {
        "id": "vtjk7nqgSloz"
      },
      "outputs": [],
      "source": [
        "# split 80% first data for training\n",
        "df_train, df_valid = df_clean.randomSplit([0.8, 0.2], seed=1234)\n",
        "input_col = df_train.columns"
      ]
    },
    {
      "cell_type": "code",
      "execution_count": null,
      "metadata": {
        "id": "xgzETHmeU99g"
      },
      "outputs": [],
      "source": [
        "input_col.remove('_c0')\n",
        "input_col.remove('Weekly_Sales')\n",
        "input_col.remove('MarkDown1')\n",
        "input_col.remove('MarkDown2')\n",
        "input_col.remove('MarkDown3')\n",
        "input_col.remove('MarkDown4')\n",
        "input_col.remove('MarkDown5')\n",
        "input_col.remove('Type')\n",
        "input_col.remove('Temperature')\n",
        "input_col.remove('Fuel_Price')\n",
        "input_col.remove('IsSuperbowl')\n",
        "input_col.remove('IsLabor')\n",
        "input_col.remove('IsHoliday')"
      ]
    },
    {
      "cell_type": "code",
      "execution_count": null,
      "metadata": {
        "id": "LPYf7eNISlo0"
      },
      "outputs": [],
      "source": [
        "df_train_pd = df_train.toPandas()\n",
        "df_valid_pd = df_valid.toPandas()"
      ]
    },
    {
      "cell_type": "code",
      "execution_count": null,
      "metadata": {
        "colab": {
          "base_uri": "https://localhost:8080/"
        },
        "id": "RkqWaFEPVGC8",
        "outputId": "efc594b6-5780-4d15-e8ba-cff19b2c9081"
      },
      "outputs": [
        {
          "name": "stdout",
          "output_type": "stream",
          "text": [
            "<class 'pandas.core.frame.DataFrame'>\n",
            "RangeIndex: 337655 entries, 0 to 337654\n",
            "Data columns (total 26 columns):\n",
            " #   Column          Non-Null Count   Dtype  \n",
            "---  ------          --------------   -----  \n",
            " 0   _c0             337655 non-null  int32  \n",
            " 1   Store           337655 non-null  int32  \n",
            " 2   IsHoliday       337655 non-null  int32  \n",
            " 3   Dept            337655 non-null  int32  \n",
            " 4   Weekly_Sales    337655 non-null  float64\n",
            " 5   Temperature     337655 non-null  float64\n",
            " 6   Fuel_Price      337655 non-null  float64\n",
            " 7   MarkDown1       120786 non-null  float64\n",
            " 8   MarkDown2       89276 non-null   float64\n",
            " 9   MarkDown3       109937 non-null  float64\n",
            " 10  MarkDown4       108177 non-null  float64\n",
            " 11  MarkDown5       121385 non-null  float64\n",
            " 12  CPI             337655 non-null  float64\n",
            " 13  Unemployment    337655 non-null  float64\n",
            " 14  Type            337655 non-null  object \n",
            " 15  Size            337655 non-null  int32  \n",
            " 16  Year            337655 non-null  int32  \n",
            " 17  Month           337655 non-null  int32  \n",
            " 18  Week            337655 non-null  int32  \n",
            " 19  IsSuperbowl     337655 non-null  int32  \n",
            " 20  IsLabor         337655 non-null  int32  \n",
            " 21  IsThanksgiving  337655 non-null  int32  \n",
            " 22  IsChristmas     337655 non-null  int32  \n",
            " 23  TypeA           337655 non-null  int32  \n",
            " 24  TypeB           337655 non-null  int32  \n",
            " 25  TypeC           337655 non-null  int32  \n",
            "dtypes: float64(10), int32(15), object(1)\n",
            "memory usage: 47.7+ MB\n"
          ]
        }
      ],
      "source": [
        "df_train_pd.info()"
      ]
    },
    {
      "cell_type": "code",
      "execution_count": null,
      "metadata": {
        "colab": {
          "base_uri": "https://localhost:8080/"
        },
        "id": "LoT4XWrlVQMV",
        "outputId": "b9ea2aa4-e5b5-4334-d81c-23ec561fc39c"
      },
      "outputs": [
        {
          "name": "stdout",
          "output_type": "stream",
          "text": [
            "(337655, 26)\n",
            "(83915, 26)\n"
          ]
        }
      ],
      "source": [
        "print(df_train_pd.shape)\n",
        "print(df_valid_pd.shape)"
      ]
    },
    {
      "cell_type": "code",
      "execution_count": null,
      "metadata": {
        "id": "RErx66IaXuj1"
      },
      "outputs": [],
      "source": [
        "df_train_pd.replace(\"NA\",np.NaN,inplace = True)\n",
        "df_valid_pd.replace(\"NA\",np.NaN,inplace = True)\n",
        "df_train_pd.fillna(0,inplace=True)\n",
        "df_valid_pd.fillna(0,inplace=True)"
      ]
    },
    {
      "cell_type": "code",
      "execution_count": null,
      "metadata": {
        "id": "9N-0NbXJfYP1"
      },
      "outputs": [],
      "source": [
        "weight_train = df_train_pd.IsHoliday.map({0:1,1:5})\n",
        "weight_valid = df_valid_pd.IsHoliday.map({0:1,1:5})"
      ]
    },
    {
      "cell_type": "code",
      "execution_count": null,
      "metadata": {
        "colab": {
          "base_uri": "https://localhost:8080/"
        },
        "id": "hiExe-VNSlo1",
        "outputId": "50f1bf3f-8afb-4dd2-d3bf-8ffedb167d6b"
      },
      "outputs": [
        {
          "name": "stdout",
          "output_type": "stream",
          "text": [
            "(337655, 26)\n",
            "(83915, 26)\n"
          ]
        }
      ],
      "source": [
        "print(df_train_pd.shape)\n",
        "print(df_valid_pd.shape)"
      ]
    },
    {
      "cell_type": "code",
      "execution_count": null,
      "metadata": {
        "colab": {
          "base_uri": "https://localhost:8080/"
        },
        "id": "5DLStC_vSlo2",
        "outputId": "e6ba5efb-0c42-42ec-9b8e-5cc8ad1f70c5"
      },
      "outputs": [
        {
          "name": "stderr",
          "output_type": "stream",
          "text": [
            "/usr/local/lib/python3.8/dist-packages/joblibspark/backend.py:108: UserWarning: User-specified n_jobs (9) is greater than the max number of concurrent tasks (2) this cluster can run now.If dynamic allocation is enabled for the cluster, you might see more executors allocated.\n",
            "  warnings.warn(f\"User-specified n_jobs ({n_jobs}) is greater than the max number of \"\n"
          ]
        },
        {
          "name": "stdout",
          "output_type": "stream",
          "text": [
            "Fitting 3 folds for each of 2 candidates, totalling 6 fits\n"
          ]
        },
        {
          "name": "stderr",
          "output_type": "stream",
          "text": [
            "/usr/local/lib/python3.8/dist-packages/sklearn/model_selection/_search.py:969: UserWarning: One or more of the test scores are non-finite: [nan nan]\n",
            "  warnings.warn(\n"
          ]
        }
      ],
      "source": [
        "from sklearn.metrics import make_scorer\n",
        "from sklearn.preprocessing import StandardScaler\n",
        "register_spark()\n",
        "\n",
        "\n",
        "scaler = StandardScaler()\n",
        "scaler.fit_transform(df_train_pd[input_col])\n",
        "rnd = sklearn.ensemble.RandomForestRegressor()\n",
        "\n",
        "grid_param = {\n",
        "    'max_depth': [25, 30, 35],\n",
        "    'max_features': [1.0, 0.9, 0.8],\n",
        "    'max_samples': [0.5, 0.75, 1.0]\n",
        "}\n",
        "\n",
        "# simulate grid search\n",
        "# grid_param = {\n",
        "#     'max_depth': [30],\n",
        "#     'max_features': [1.0],\n",
        "#     'max_samples': [0.8, 0.9]\n",
        "# }\n",
        "\n",
        "def score_f(y_true, y_pred, sample_weight):\n",
        "    return mean_absolute_error(y_true.values, y_pred,\n",
        "                    sample_weight=sample_weight.loc[y_true.index.values].values.reshape(-1),)\n",
        "\n",
        "score_params = {\"sample_weight\": weight_train}\n",
        "my_scorer = make_scorer(score_f,\n",
        "                        greater_is_better=False, \n",
        "                        **score_params)\n",
        "\n",
        "with parallel_backend('spark'):\n",
        "    grid_search = GridSearchCV(estimator=rnd,\n",
        "                               param_grid=grid_param,\n",
        "                               scoring=my_scorer,\n",
        "                               cv=3,\n",
        "                               n_jobs=9,\n",
        "                               verbose=2)\n",
        "    grid_search.fit(df_train_pd[input_col], df_train_pd[target])\n"
      ]
    },
    {
      "cell_type": "code",
      "execution_count": null,
      "metadata": {
        "colab": {
          "base_uri": "https://localhost:8080/"
        },
        "id": "PApktPYLSlo3",
        "outputId": "ea88357a-0189-4006-fa7b-0b248c896a8e"
      },
      "outputs": [
        {
          "data": {
            "text/plain": [
              "{'max_depth': 30, 'max_features': 1.0, 'max_samples': 0.8}"
            ]
          },
          "execution_count": 52,
          "metadata": {},
          "output_type": "execute_result"
        }
      ],
      "source": [
        "grid_search.best_params_"
      ]
    },
    {
      "cell_type": "code",
      "execution_count": null,
      "metadata": {
        "colab": {
          "base_uri": "https://localhost:8080/"
        },
        "id": "M96Rnl-VoefJ",
        "outputId": "375b3eed-a7fe-4a74-ec25-d625466b194b"
      },
      "outputs": [
        {
          "data": {
            "text/plain": [
              "726.8036930205452"
            ]
          },
          "execution_count": 53,
          "metadata": {},
          "output_type": "execute_result"
        }
      ],
      "source": [
        "y_pred = grid_search.predict(scaler.transform(df_train_pd[input_col]))\n",
        "mean_absolute_error(df_train_pd[target], y_pred,sample_weight=weight_train)"
      ]
    },
    {
      "cell_type": "code",
      "execution_count": null,
      "metadata": {
        "colab": {
          "base_uri": "https://localhost:8080/"
        },
        "id": "_W2ITzIloeTs",
        "outputId": "1f328e73-c67f-4e02-cbeb-073a2599b357"
      },
      "outputs": [
        {
          "data": {
            "text/plain": [
              "1575.8963900228282"
            ]
          },
          "execution_count": 55,
          "metadata": {},
          "output_type": "execute_result"
        }
      ],
      "source": [
        "y_pred = grid_search.predict(scaler.transform(df_valid_pd[input_col]))\n",
        "mean_absolute_error(df_valid_pd[target], y_pred,sample_weight=  weight_valid)"
      ]
    },
    {
      "cell_type": "code",
      "execution_count": null,
      "metadata": {
        "colab": {
          "base_uri": "https://localhost:8080/",
          "height": 297
        },
        "id": "RZJb7VJCSlo5",
        "outputId": "531e3207-c692-4606-fc29-22425698387c"
      },
      "outputs": [
        {
          "data": {
            "text/plain": [
              "<matplotlib.axes._subplots.AxesSubplot at 0x7fb084a8d190>"
            ]
          },
          "execution_count": 20,
          "metadata": {},
          "output_type": "execute_result"
        },
        {
          "data": {
            "image/png": "[encoded data removed]",
            "text/plain": [
              "<Figure size 432x288 with 1 Axes>"
            ]
          },
          "metadata": {
            "needs_background": "light"
          },
          "output_type": "display_data"
        }
      ],
      "source": [
        "importance = grid_search.best_estimator_.feature_importances_\n",
        "importance = pd.DataFrame(importance, index=input_col, columns=[\"importance\"])\n",
        "importance = importance.sort_values(by=\"importance\", ascending=False)\n",
        "sns.barplot(y=importance.index, x=importance[\"importance\"], orient = 'h')"
      ]
    },
    {
      "cell_type": "code",
      "execution_count": null,
      "metadata": {
        "colab": {
          "base_uri": "https://localhost:8080/",
          "height": 297
        },
        "id": "tBvQxt9kSlo6",
        "outputId": "1c9b3f36-c1fe-4333-de88-9dafa8e50a3c"
      },
      "outputs": [
        {
          "data": {
            "text/plain": [
              "<matplotlib.axes._subplots.AxesSubplot at 0x7fb06f3e6be0>"
            ]
          },
          "execution_count": 21,
          "metadata": {},
          "output_type": "execute_result"
        },
        {
          "data": {
            "image/png": "[encoded data removed]",
            "text/plain": [
              "<Figure size 432x288 with 1 Axes>"
            ]
          },
          "metadata": {
            "needs_background": "light"
          },
          "output_type": "display_data"
        }
      ],
      "source": [
        "importance = grid_search.best_estimator_.feature_importances_\n",
        "importance = pd.DataFrame(importance, index=input_col, columns=[\"importance\"])\n",
        "importance = importance.sort_values(by=\"importance\", ascending=False)\n",
        "sns.barplot(y=importance.index, x=importance[\"importance\"], orient = 'h')"
      ]
    }
  ],
  "metadata": {
    "colab": {
      "provenance": []
    },
    "kernelspec": {
      "display_name": "Python 3",
      "language": "python",
      "name": "python3"
    },
    "language_info": {
      "codemirror_mode": {
        "name": "ipython",
        "version": 3
      },
      "file_extension": ".py",
      "mimetype": "text/x-python",
      "name": "python",
      "nbconvert_exporter": "python",
      "pygments_lexer": "ipython3",
      "version": "3.10.6"
    },
    "orig_nbformat": 4,
    "vscode": {
      "interpreter": {
        "hash": "916dbcbb3f70747c44a77c7bcd40155683ae19c65e1c03b4aa3499c5328201f1"
      }
    }
  },
  "nbformat": 4,
  "nbformat_minor": 0
}
